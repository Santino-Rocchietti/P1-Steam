{
 "cells": [
  {
   "cell_type": "code",
   "execution_count": 1,
   "metadata": {},
   "outputs": [],
   "source": [
    "# en este notebook generaremos un archivo parquet para la función user data y luego definimos la función para probarla antes de\n",
    "# pasarla al main.py\n",
    "import pandas as pd \n"
   ]
  },
  {
   "cell_type": "code",
   "execution_count": 3,
   "metadata": {},
   "outputs": [],
   "source": [
    "df_user = pd.read_parquet('c:\\\\Users\\\\Sofia\\\\Desktop\\\\Clean Data\\\\users_items.parquet', columns=['user_id', 'item_id', 'items_count'])\n",
    "df_steam = pd.read_parquet('c:\\\\Users\\\\Sofia\\\\Desktop\\\\Clean Data\\\\steam_games.parquet', columns= ['id', 'price'])\n",
    "\n",
    "df = df_user.merge(df_steam, how='left', left_on= 'item_id', right_on= 'id')\n",
    "\n",
    "del df_user\n",
    "del df_steam\n",
    "\n",
    "df.drop(columns=['item_id', 'id'], inplace=True)\n",
    "df = df.groupby('user_id').agg({'items_count': 'max', 'price': 'sum'}).reset_index()\n",
    "df.rename(columns={'price': 'dinero_gastado'}, inplace=True)\n",
    "df_reviews = pd.read_parquet('c:\\\\Users\\\\Sofia\\\\Desktop\\\\Clean Data\\\\reviews.parquet', columns= ['user_id', 'recommend'])\n",
    "df_reviews = df_reviews.groupby('user_id').agg('sum').reset_index()\n",
    "\n",
    "df = df.merge(df_reviews, how= 'left')\n",
    "del df_reviews\n",
    "\n",
    "df['porcentaje_recom'] = round(df['recommend']*100 / df['items_count'], 2)\n",
    "df.drop(columns='recommend', inplace=True)\n",
    "df.fillna(0, inplace=True)\n",
    "df.head()\n",
    "\n",
    "df.to_parquet('c:\\\\Users\\\\Sofia\\\\Desktop\\\\Clean Data\\\\userdata.parquet')\n",
    "del df\n"
   ]
  },
  {
   "cell_type": "code",
   "execution_count": 4,
   "metadata": {},
   "outputs": [],
   "source": [
    "def userdata(user_id: str):\n",
    "\n",
    "    if not isinstance(user_id, str):\n",
    "        return {'Mensaje': 'El argumento user_id debe ser una cadena de texto.'}\n",
    "\n",
    "    df = pd.read_parquet('c:\\\\Users\\\\Sofia\\\\Desktop\\\\Clean Data\\\\userdata.parquet')\n",
    "    df= df[df['user_id'].isin([user_id])].reset_index(drop=True)\n",
    "    \n",
    "    if df.empty:\n",
    "        del df\n",
    "        return {'Mensaje': 'Usuario no encontrado. Por favor ingrese un usuario válido'}\n",
    "    \n",
    "    df = df.reset_index(drop=True)\n",
    "\n",
    "    resultado = {\n",
    "        'Usuario': user_id,\n",
    "        'Dinero gastado': str(round(df.loc[0,'dinero_gastado'], 2)) + ' USD',\n",
    "        '% de recomendación': str(df.loc[0,'porcentaje_recom']) + ' %',\n",
    "        'Cantidad de Items': int(df.loc[0,'items_count'])\n",
    "    }\n",
    "\n",
    "    return resultado"
   ]
  },
  {
   "cell_type": "code",
   "execution_count": 5,
   "metadata": {},
   "outputs": [
    {
     "data": {
      "text/plain": [
       "{'Usuario': 'jonasdbomb',\n",
       " 'Dinero gastado': '5352.1 USD',\n",
       " '% de recomendación': '0.22 %',\n",
       " 'Cantidad de Items': 461}"
      ]
     },
     "execution_count": 5,
     "metadata": {},
     "output_type": "execute_result"
    }
   ],
   "source": [
    "userdata('jonasdbomb')"
   ]
  }
 ],
 "metadata": {
  "kernelspec": {
   "display_name": "Python 3",
   "language": "python",
   "name": "python3"
  },
  "language_info": {
   "codemirror_mode": {
    "name": "ipython",
    "version": 3
   },
   "file_extension": ".py",
   "mimetype": "text/x-python",
   "name": "python",
   "nbconvert_exporter": "python",
   "pygments_lexer": "ipython3",
   "version": "3.12.1"
  }
 },
 "nbformat": 4,
 "nbformat_minor": 2
}

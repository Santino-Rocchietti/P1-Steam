{
 "cells": [
  {
   "cell_type": "code",
   "execution_count": 1,
   "metadata": {},
   "outputs": [],
   "source": [
    "import pandas as pd"
   ]
  },
  {
   "cell_type": "code",
   "execution_count": 2,
   "metadata": {},
   "outputs": [
    {
     "data": {
      "text/html": [
       "<div>\n",
       "<style scoped>\n",
       "    .dataframe tbody tr th:only-of-type {\n",
       "        vertical-align: middle;\n",
       "    }\n",
       "\n",
       "    .dataframe tbody tr th {\n",
       "        vertical-align: top;\n",
       "    }\n",
       "\n",
       "    .dataframe thead th {\n",
       "        text-align: right;\n",
       "    }\n",
       "</style>\n",
       "<table border=\"1\" class=\"dataframe\">\n",
       "  <thead>\n",
       "    <tr style=\"text-align: right;\">\n",
       "      <th></th>\n",
       "      <th>sentiment_analysis_2</th>\n",
       "      <th>developer</th>\n",
       "    </tr>\n",
       "  </thead>\n",
       "  <tbody>\n",
       "    <tr>\n",
       "      <th>0</th>\n",
       "      <td>2</td>\n",
       "      <td>tripwire interactive</td>\n",
       "    </tr>\n",
       "    <tr>\n",
       "      <th>1</th>\n",
       "      <td>2</td>\n",
       "      <td>ace team</td>\n",
       "    </tr>\n",
       "    <tr>\n",
       "      <th>2</th>\n",
       "      <td>2</td>\n",
       "      <td>NaN</td>\n",
       "    </tr>\n",
       "    <tr>\n",
       "      <th>3</th>\n",
       "      <td>2</td>\n",
       "      <td>NaN</td>\n",
       "    </tr>\n",
       "    <tr>\n",
       "      <th>4</th>\n",
       "      <td>2</td>\n",
       "      <td>scs software</td>\n",
       "    </tr>\n",
       "  </tbody>\n",
       "</table>\n",
       "</div>"
      ],
      "text/plain": [
       "   sentiment_analysis_2             developer\n",
       "0                     2  tripwire interactive\n",
       "1                     2              ace team\n",
       "2                     2                   NaN\n",
       "3                     2                   NaN\n",
       "4                     2          scs software"
      ]
     },
     "execution_count": 2,
     "metadata": {},
     "output_type": "execute_result"
    }
   ],
   "source": [
    "df_steam = pd.read_parquet('c:\\\\Users\\\\Sofia\\\\Desktop\\\\Clean Data\\\\steam_games.parquet', columns= ['id', 'developer'])\n",
    "df_steam['developer'] = df_steam['developer'].apply(lambda x: x.lower())\n",
    "df_sent = pd.read_parquet('c:\\\\Users\\\\Sofia\\\\Desktop\\\\sentiment_analysis_2.parquet', columns= ['item_id', 'sentiment_analysis_2'])\n",
    "df = df_sent.merge(df_steam,how= 'left', left_on= 'item_id', right_on='id')\n",
    "del df_sent\n",
    "del df_steam\n",
    "df.drop(columns=['id', 'item_id'], inplace=True)\n",
    "df.head()"
   ]
  },
  {
   "cell_type": "code",
   "execution_count": 3,
   "metadata": {},
   "outputs": [
    {
     "data": {
      "text/html": [
       "<div>\n",
       "<style scoped>\n",
       "    .dataframe tbody tr th:only-of-type {\n",
       "        vertical-align: middle;\n",
       "    }\n",
       "\n",
       "    .dataframe tbody tr th {\n",
       "        vertical-align: top;\n",
       "    }\n",
       "\n",
       "    .dataframe thead th {\n",
       "        text-align: right;\n",
       "    }\n",
       "</style>\n",
       "<table border=\"1\" class=\"dataframe\">\n",
       "  <thead>\n",
       "    <tr style=\"text-align: right;\">\n",
       "      <th></th>\n",
       "      <th>developer</th>\n",
       "      <th>positivos</th>\n",
       "      <th>negativos</th>\n",
       "    </tr>\n",
       "  </thead>\n",
       "  <tbody>\n",
       "    <tr>\n",
       "      <th>0</th>\n",
       "      <td>07th expansion</td>\n",
       "      <td>0</td>\n",
       "      <td>1</td>\n",
       "    </tr>\n",
       "    <tr>\n",
       "      <th>1</th>\n",
       "      <td>10th art studio,adventure productions</td>\n",
       "      <td>0</td>\n",
       "      <td>0</td>\n",
       "    </tr>\n",
       "    <tr>\n",
       "      <th>2</th>\n",
       "      <td>10tons ltd</td>\n",
       "      <td>1</td>\n",
       "      <td>0</td>\n",
       "    </tr>\n",
       "    <tr>\n",
       "      <th>3</th>\n",
       "      <td>11 bit studios</td>\n",
       "      <td>27</td>\n",
       "      <td>29</td>\n",
       "    </tr>\n",
       "    <tr>\n",
       "      <th>4</th>\n",
       "      <td>14° east</td>\n",
       "      <td>1</td>\n",
       "      <td>1</td>\n",
       "    </tr>\n",
       "  </tbody>\n",
       "</table>\n",
       "</div>"
      ],
      "text/plain": [
       "                               developer  positivos  negativos\n",
       "0                         07th expansion          0          1\n",
       "1  10th art studio,adventure productions          0          0\n",
       "2                             10tons ltd          1          0\n",
       "3                         11 bit studios         27         29\n",
       "4                               14° east          1          1"
      ]
     },
     "execution_count": 3,
     "metadata": {},
     "output_type": "execute_result"
    }
   ],
   "source": [
    "df['positivos'] = df['sentiment_analysis_2'].apply(lambda x: 1 if x == 2 else 0)\n",
    "df['negativos'] = df['sentiment_analysis_2'].apply(lambda x: 1 if x == 0 else 0)\n",
    "df.drop(columns='sentiment_analysis_2', inplace=True)\n",
    "df = df.groupby('developer').agg('sum').reset_index()\n",
    "df.head()"
   ]
  },
  {
   "cell_type": "code",
   "execution_count": 4,
   "metadata": {},
   "outputs": [],
   "source": [
    "df.to_parquet('c:\\\\Users\\\\Sofia\\\\Desktop\\\\Clean Data\\\\developer_reviews_analysis.parquet')"
   ]
  },
  {
   "cell_type": "code",
   "execution_count": 5,
   "metadata": {},
   "outputs": [],
   "source": [
    "def developer_reviews_analysis(desarrolladora: str):\n",
    "\n",
    "    if not isinstance(desarrolladora, str):\n",
    "        return {'Mensaje': 'Debe ingresar una cadena de texto'}\n",
    "    \n",
    "    desarrolladora = desarrolladora.lower()\n",
    "    \n",
    "    df = pd.read_parquet('c:\\\\Users\\\\Sofia\\\\Desktop\\\\Clean Data\\\\developer_reviews_analysis.parquet')\n",
    "    \n",
    "    developers = list(df['developer'].unique()) \n",
    "\n",
    "    df = df[df['developer'].isin([desarrolladora])].reset_index()\n",
    "    if len(df) == 0:\n",
    "        del df\n",
    "        return {f'Desarrolladora no encontrada: {desarrolladora}.': f'Desarrolladoras disponibles {\", \".join(developers)}'}\n",
    "\n",
    "    resultado = {\n",
    "        desarrolladora: [f'Negative = {int(df[\"negativos\"].values[0])}', f'Positive = {int(df[\"positivos\"].values[0])}']\n",
    "    }\n",
    "\n",
    "    del df\n",
    "\n",
    "    return resultado"
   ]
  },
  {
   "cell_type": "code",
   "execution_count": 6,
   "metadata": {},
   "outputs": [
    {
     "data": {
      "text/plain": [
       "{'Desarrolladora no encontrada: aseefe.': 'Desarrolladoras disponibles 07th expansion, 10th art studio,adventure productions, 10tons ltd, 11 bit studios, 14° east, 16bit nights, 17-bit, 1c company, 1c-avalon, 1c-softclub, 1c: maddox games, 1c:inoco, 22cans, 24 caret games, 2d boy, 2darray, 2dengine.com, 2k australia,gearbox software,aspyr (mac &amp; linux), 2k australia,gearbox software,aspyr (mac and linux), 2k australia,gearbox software,aspyr (mac,linux), 2k boston,2k australia, 2k boston,2k australia,blind squirrel,feral interactive (mac), 2k czech,feral interactive (mac), 2k marin, 2k marin,2k china,digital extremes,2k australia,feral interactive (mac), 2play, 2x2 games, 3 sprockets, 30.06 studios ltd, 3000ad, 343 industries,vanguard games, 3909, 3d realms (apogee software), 3f interactive, 4 i lab, 48h studio, 49 games, 4a games, 5 bits games, 5 lives studios, 5th cell media, 5wolf, 773, 777 studios, 8-bit studio, 800 north and digital ranch, 8888888 labs, 88mm, 8monkey labs, 9heads game studios, @unepic_fran, [geim].pro, [onemanband], a crowd of monsters, a jolly corpse, abbey games, above and beyond technologies, abraham carreola, abrakam sa, abstract tree studio, abstraction games, abstraction games,wayforward, acceleroto, inc., access games, ace maddox, ace team, acid nerve, acquire corp., actalogic, action button entertainment, llc, adam foster, aeon dream studios, afterthought llc, agc, airtight games, aivaras klimas, akakiy petrushkin, akella,.dat, alan edwardes, alan zucconi, alawar, alawar entertainment, aldorlea games, aleksey abramenko, alex zhang, alexander bruce, alexey davydov,sergey dvoynikov,timofey shargorodskiy, alice &amp; smith, alice in dissonance, alien pixel studios, alien sync interactive, alientrap, allen dayan, allplayer group ltd., almost human games, alpixel games,luis diaz,gustavo santos,albert fernandez,tice thomason, altar games, alternative software ltd, amanita design, amaranth games, llc, amaterasu software, amplitude studios, anarchy enterprises, andrew gilmour, andrewmd5,codeusa, andrii vintsevych, andy wallace, angry mob games, animation arts, animu game, anisoptera games, ankama studio, anothink, antanas marcelionis,renė petrulienė, anteater games, antonio renna, anvate games, apeiron, aperture tag team, app2fun, aquiris game studio, arachnid games, aratog llc, arc system works, arcen games, llc, archive entertainment, arkane studios, arkavi studios, arkedo, armature studio, arrowhead game studios, artefacts studio, artefacts studios, artery games, artifex mundi, artifice studio, ascaron, ascaron entertainment ltd., ascension entertainment llc, aspyr, aspyr studios, aspyr,quantic dream (original release), atapki, atari, cubed productions llc, atelier 801, atom republic, atomictorch studio, atum software, atypical games, aurelien regard, austin handle, autobotika,game nation inc, avalanche software, avalanche studios, avalanche studios,feral interactive (mac/linux), avidly wild games, awesome games studio, awesomeblade, axis game factory, axis game factory llc, axolot games, axyos games, azamatika, b-alive, b-alive gmbh, back to basics gaming, bacon wrapped games, badfly interactive, a.s., badland studio, baggy cat ltd, baller industries, bandai namco studio inc., bankroll studios, bare mettle entertainment, basaltic studio, bat country games, llc, batholith entertainment, batterystaple games,fire hose games, battlegoat studios, beam team games, beamdog, beamng, beautifun games, bedlam games, bedtime digital games, beenox, behold studios, ben \\'yahtzee\\' croshaw,collected worlds, ben prunty music, benjamin bryant, benjamin rivers inc., best gaem studio, best way, betadwarf, bethesda game studios, biart company llc, big ant studios, big corporation, big fat alien, big fat simulations inc., big finish games, big huge games,38 studios, big robot ltd, bigant studios, binary fortress software, binary zoo,the game creators, bioware, bioware corporation, bioware,aspyr (mac), bitbox ltd., bitfinity, bithell games, bithuffel, bitl,cobalt-57, bitmonster, inc., bizarre creations, black death apps limited, black element, black eye games, black forest games, black isle studios, black jacket studios, black lion studios, black pants studio, black sea studios ltd, black shell games, blackbird interactive, blackfire games, blackhole, blacklight interactive, blackpowder games, blackspot entertainment, blankmediagames, blazing griffin, blender foundation, blendo games, blind sky studios, blinkworks media, blit software, bloober team sa, blooming buds studio, blue bottle games, blue byte, blue byte,related designs, blue isle studios, blue mammoth games, blue manchu, blue tea games, bluebutton games, blueeagle productions, bluegiant interactive, bluehole ginno games, bluehole, inc., blueline games, bob the game development bot, bohemia interactive, bombservice, boneloaf, bongfish gmbh, boolat games,alawar entertainment, boomzap entertainment, born ready games, born ready games ltd., boss baddie, bossa studios, brace yourself games, brain bombers, brainbox software, brainchild, brainy studio llc, brawsome, breakfall, brhp, brian cronin, brightrock games, brilliant skies ltd., broken rules, bromoco games, browny application, brytenwalda, bs1 &amp; bsl team, buddy cops, llc, bugbear, bugbear entertainment, bugbyte ltd., bulbware, bumpkinbrothers, burstray games, burut ct, butterscotch shenanigans, bytebin, c3sk, cabygon, cadence games, cadenza interactive, camouflaj, campo santo, camshaft software, candyrocketstudio, capcom, capcom co., ltd., capcom game studio vancouver, capcom u.s.a., inc., capcom vancouver, cape copenhagen, capybara games, capybara,superbrothers,jim guthrie, carbine studios, carbon games, cardboard keep, carlsen games, carmine t. guida, cat in jar games, cat5games, cauldron, cave interactive co.,ltd., cavedog entertainment, cccp, ccp, cd projekt red, cd projekt red,can explode, cellar door games, celsius game studios, centauri production, chad close,kyle weik, chaosoft games, charyb games, chasing carrots, cherry pop games, childish things, choice of games, choice provisions, chondrite games, chris sawyer productions, chucklefish, ci games, ci games,deck 13, cinemax, s.r.o., cipher prime studios, circle five studios,pub games, city interactive, civilsavages, clapfoot, clever endeavour games, clickgames, clickteam, cliffhanger productions, cliffhanger productions,catalyst games lab, climax studios, clockstone, cloud 9 studio, cloudcade, inc., cm softworks, coaguco industries, cobra mobile, cockroach inc., cococucumber, code club ab, codebrush games, codemasters, codemasters action studio, codemasters birmingham, codemasters digital, codemasters racing,feral interactive (mac), codemasters racing,feral interactive (mac),feral interactive (linux), codemasters studios, codemasters,feral interactive (linux), codemasters,feral interactive (mac), codename entertainment inc., code}{atch, coffee stain studios, cold beam games, colibri games, colonthree enterprises, colossal games, colossal order ltd., comcept,inti creates, comipo! llp, compulsion games, concernedape, conrad nelson, convoy games, core design, coredumping, coreplay gmbh,bigmoon studios, corrosive studios llc, cosmic cow llc, counterplay games inc., crackpot entertainment, crackshell, crankshaft games, crass studios, crate entertainment, crazy moo games, crazy viking studios, crazydiamond co., ltd., creability, creat studio, creative assembly, creative assembly, pc port - hardlight, creative assembly,feral interactive (linux),feral interactive (mac), creative assembly,feral interactive (mac),feral interactive (linux), creativeforge games, creepy cute, crescent moon games,cinopt studios, crespirit,gemayue, crian soft, criterion games, critical studio, croteam, croteam,alligator pit, crowbar collective, crows crows crows, cryptic sea, cryptic studios, crystal dynamics, crystal dynamics,feral interactive (mac), crystal dynamics,feral interactive (mac),feral interactive (linux), crystal shard, crytek, crytek studios, csr-studios, cupholder, curve digital,futurlab, curve studios, cyan worlds, cyanide, cyanide montreal, cyanide studio, cyanide studio - spiders studios, cyanide studios, cyberconnect2 co. ltd., cyberconnect2 co., ltd., cyberdreams, cyberlore, cybertime system, d-pad studio, d3t, daedalic entertainment, damaged, dambuster studios, damian sommer,emily carroll, dan  walters,ceri williams, dan fornace, dan walters, dancing dragon games, daniel davies, daniel jonathan bourke, daniel mullins games, daniel snd,thiago adamo, darius bode, dark amber softworks, dark artz entertainment, dark day interactive, dark energy digital ltd., darkelite, darklight games, data realms, david mulder, david oreilly, david stark, david szymanski, david williamson, dawid bujak, day 1 studios, daybreak game company, days of wonder, dead mage, dead shark triplepunch, deadfactory, decent machine, deck13, deck13 hamburg, deconstructeam, deep red limited, deep silver volition, deep silver volition,high voltage software, deepred, defence alliance team, defiant development, deion mobile, dejobaan games, llc, dekovir entertainment, demiurge studios, dennaton games, denver productions, desert owl games llc, destructive creations, devespresso games, devgru-p, devil\\'s details, dexp, dharker studio, dice, diezelpower, digerati distribution, diggerworld ltd., digital arrow, digital confectioners, digital dawn studios, digital extremes, digital furnace games, digital happiness, digital leisure inc., digital melody, digital tentacle, digitalmindsoft, diminished studios, dimmdrive inc., dimps, dingaling, dingo games, dinosaur polo club, dischan media, disney interactive, dl softworks, dns development, dobro_slon, doctor entertainment ab, dodge roll, dogenzaka lab, dolphinbarn, dominique grieshofer, dontnod entertainment, dontnod entertainment,feral interactive (mac),feral interactive (linux), doomster entertainment, dotemu, double action factory, double damage games, double eleven,q-games ltd., double fine productions, double helix games, double helix games,capcom, double helix games,rainbow studios,thq nordic, doublebear productions, doubledutch games, doublesix, doublesix games, dovetail games, dr studios, dragonfly, dragonfly gf co., ltd, dreadbit, dream reactor, dreamory, dreampainters, drinkbox studios, drixy games, droqen, dry cactus, ductape studio, duelboot, dumativa creative studio,castro brothers, dylan fitterer, ea - maxis, ea - maxis,aspyr (mac), ea black box, ea los angeles, ea redwood shores, eagle dynamics sa, easyanticheat ltd, easygamestation, eat create sleep, ed key and david kanaga, edelweiss, eden games,hydravision entertainment, eden industries, eden studios, edge case games ltd., edge of reality, edmund mcmillen and florian himsl, edmund mcmillen, florian himsl, edmund mcmillen,james id, edmund mcmillen,tyler glaiel, eforb, egamea game studios, eggcode, eggtooth team, egosoft, eidos interactive, eidos montreal,feral interactive (linux),feral interactive (mac), eidos montreal,feral interactive (mac), eidos studio hungary, eidos-montréal,feral interactive (mac), eightyeightgames, eko software, ekuator games, elagotech, elder games, elecorn, electrolyte, electronic arts, eleon game studios, elias viglione,jussi kukkonen, elijah newman-gomez, elite games team, elixir studios, elliptic games, emmanuel salva cruz, empires, empty clip studios, endgame studios, endless loop studios, endlessfluff games, endnight games ltd, ensemble studios, ensenasoft, entheogen studios llc, entity medialab, entrada interactive llc, epic games, inc., epiphany games, eren aydın, eric chahi,dotemu, eric hartman,ben garney,anthony rotondo, eric provan - ayyo games, erik asmussen, erik svedäng,el huervo / niklas åkerblad,tobias sjögren,oscar \"ratvader\" rydelius,johannes gotlén, erobotan, es team, estsoft corp., ethrea dreams, eugen systems, eurocom, evan todd, everything unlimited ltd., evga, evgenii gubanov, evgeny shcherbakov,denis ovsyannikov, evil tortilla games, evil twin artworks, exato game studios, exato games studio, excalibur, exdream gmbh, exe games inc., exe-create, exor studios, exosyphen studios, expansive worlds,avalanche studios, extend studio, extrokold games, eyebrow interactive, eyedentity games inc., eyemobi ltd., eyzi, fabio ferrara, fabio ferrara,davide caio,nicolò azzolini,antonio carcagnì,luigi di guida,tommaso vita, fabio ferrara,giulia airoldi, facepunch studios, factor 5,lucasarts, failbetter games, fallen snow studios, fancy bytes, reactor, fancy fish games, farsight studios, farsky interactive, fatshark, fayju, fermenter games, fervent, fictiorama studios, fiddlesticks games, filip victor,valve, final boss entertainment, final form games, finji,kittehface software, firaxis games, firaxis games,aspyr (mac, linux), firaxis games,feral interactive (mac), firaxis games,feral interactive (mac),feral interactive (linux), firaxis,feral interactive (mac and linux), firaxis,feral interactive (mac),feral interactive (linux), firebase industries ltd., firefly studios, firemint, fireproof games, fishcow studio, fishing cactus, fishing planet llc, fishlabs entertainment gmbh, fistful of frags team, five-bn games, fix korea, co.ltd,fix games, co. ltd, fixpoint productions ltd., flashback games,the lordz games studio, flox studios ltd., flump studios, flyanvil, flying cafe for semianimals, flying helmet games, flying wild hog, flyleap studios, flyleap studios pty. ltd., foam entertainment, focus home interactive, forbes consult ltd, force of habit, forever entertainment s. a., fortress forever development team,trepid studios, four quarters, fourbitfriday, fractal phase, freakinware limited, freakinware studios, freakzone games, fred wood, free games info,hyperboreangames, free lives, free reign entertainment, freebird games, freegamer, freejam, freezenova, french-bread, fresh3d, frictional games, frima studio, frogames, frogdice, frogshark, frogsong studios ab, frogwares, fromsoftware, fromsoftware, inc, fromsoftware, inc., frontier developments, frontier,aspyr (mac), frontwing, frozenbyte, fugazo, full control, full control studios, fullbright, fullpowersideattack.com, fun sponge games, funcom, funselektor labs inc.,flippfly, furiously inactive games, futuremark, g-old, g-trax, g2crew, gabbergames.com, gaijin entertainment, gaijin entertainment corporation, gaijin games, galactic cafe, galaxytrail, gambrinous, game arts co., ltd.,skybox labs, game dev castle, game distillery s.r.o., game in a bottle, game mechanics, game-labs, gameart studio gmbh, gamebryo,virtual playground, gameconnect,interwave studios, gamecrafterteam, gameguyz, gameore, gamepires, gameprix, games by robert, llc, gameus inc, gameus inc., gaming minds, gaming minds studios, gamious, ganz, gas powered games, gaslamp games, inc., gatling goat studios, gdt limited, gearbox software, gearbox software,aspyr (mac &amp; linux), gearbox software,aspyr (mac), geek sloth games, genee network, general arcade, genetix studio, geniaware srl, geoff \"zag\" keene, geoff keighley, ghost town games ltd., ghostshark, giant army, giant squid, giants software, ginger labs llc, gl33k, glass knuckle games, glyphx games, gnisoft, going loud studios, goldhawk interactive, golemlabs, gone north games, good games, gord10,aslan game studio, gravity interactive, gravity, inc., gravvit ltd,forbes  consult ltd, gray matter studios, great war team, green lava studios, greenheart games, gremlin interactive, grey alien games, grey havens, grip games, gromada,buka entertainment, grynsoft, gsc game world, gtgd, gunfire games,vigil games,thq nordic, guru games, haemimont games, haemimont games,feral interactive (mac), halfbus, halissoni, halycon media gmbh &amp; co. kg, hammer labs, hammerfall publishing, hanako games, hanbitsoft, inc.,imc games co.,ltd., handmade game, handyman studios, hardsuit labs, harebrained schemes, harvester games, hassey enterprises, inc., he saw, headfirst productions, headup games / crenetic, headup games / radon labs, heart machine, heartbit interactive, hellbent games, hello games, hello there ab, hemisphere games, henrique pegacha,rafael lima,nuno guerreiro, her interactive, hesketh studios, hexage, heydeck games, hi-rez studios, hidden path entertainment, high impact games, hinterland studio inc., hipix studio, hippomancer, hitbox team, hitcents, holotech studios, holy priest, holy warp,black wing foundation, home net games, hoobalugalar_x, hopoo games, llc, hosted games, hostel games, hothead games, house of tales, house on fire, housemarque, humble hearts llc, humongous entertainment, huniepot, hunted cow studios, hydravision entertainment, hyper hippo games, hypercane studios, hypersloth, hörberg productions, i fight bears, ian campbell, ice entertainment, ice water games, ice-pick lodge, ice-pick lodge,general arcade, icetesy sprl, id software, idea factory, idea factory co., ltd.,compile heart co., ltd.,felistella co., ltd., idea factory,compile heart, idea factory,compile heart,felistella, idea factory,compile heart,sting, idea factory,compile heart,tamsoft, idea factory,design factory, idhas studios, idigicon, idol fx, if studios, igry.ru, iguana entertainment,nightdive studios, illfonic, illwinter game design, imaekgames [imaek limited], image &amp; form, imcgames co.,ltd., imgn.pro, immersive douro, incandescent games, increpare games, inferno games, infinite interactive, infinite monkeys entertainment ltd., infinity plus 2, infinity ward, infinity ward,aspyr (mac), ink stains games, inner seas, innocent grey, ino-co, ino-co plus, instant kingdom, insurgency development team, interaction studios, interceptor entertainment, interdimensional games inc, interplay inc., introversion software, invent4 entertainment, invertmouse, invictus-games llc.,imagecode llc., inxile entertainment, io entertainment, io interactive, io interactive a/s,feral interactive (linux),feral interactive (mac), io-interactive a/s, io-interactive a/s,feral interactive (linux),feral interactive (mac), io-interactive a/s,feral interactive (mac), ion storm, ionfx, ipacs, iridium studios, iron galaxy studios, llc, iron tower studio, ironclad games,stardock entertainment, ironhide game studio, ironsun studios, irrational games, irrational games,aspyr (mac),virtual programming (linux), irrational games,looking glass studios, isotx, istom games kft., italic pig, ivan zanotti\\'s mymadness works, ivory tower in collaboration with ubisoft reflections, jackbox games, inc., jae lee productions, jagex, jagex limited, jagex,artplant, jarhead games, jason oda, jason rohrer, jasper byrne, javelin oü, jckslap, jdm4ik, je software, jetcat games, jetdogs studios,zoom out games, jforce games, jimbob games, jiw-games, johannes eski, john cullen, john szymanski, john wizard, jon gallant, jon sudbury games, jonathan wood, josh koenig (slashandz), joshua neurnberger, jowood vienna, joycity, juicy beast studio, jujubee s.a., jumpcore productions, jumpstart games, inc., jundroo, llc, jurlo,jetpackgone, just add water (developments), ltd., k bros games, kadokawa, kadokawa games / grasshopper manufacture, kadokawa,yoji ojima, kalypso media digital, kaos studios, kaos studios,digital extremes, katapult, katauri, katauri interactive, kchamp games, keen games, keen software house, keinart lobre, kerberos productions, kerberos productions inc., kew mcparlane, key17 games, khb-soft, kheops studio, kiddy, killhouse games, killmonday games ab, kinelco &amp; lone elk creative, king art, kintogames, kitatus studios, kitfox games, kittehface software, kixeye, klace, klei entertainment, klei entertainment,capybara games, kloonigames, knuckle cracker, koboldgames,daedalic entertainment, koei tecmo games co., ltd., kog, koga tech limited, kojima productions, konami digital entertainment, konsordo, konstantin koshutin, kot in action creative artel, krillbite studio, krome studios, kronosaur productions, kudosoft, kukouri, kumobius, kuno interactive, kunst-stoff gmbh, kyle seeley, kylotonn entertainment, kylotonn racing games, lab zero games, labyrinthine, lag studios, lamina studios,mike studios, laminar research, landfall, landon podbielski, lapovich, larian studios, laser guided games, llc, last day of work, last dimension, last limb llc, lavaboots studios, lazy 8 studios, lazy bear games, lazy bum games, lazy monday games, ldc studios, league of geeks, legend studio, lemondo entertainment, lemonsucker games, lesley dodd, lesta studio, level up labs, llc, lgk games, liar-soft, lightbulb crew, lighthouse games studio, lightmare studio, lightmare studios, limasse five, limbic entertainment, lino slahuschek, lion game lion,overkill - a starbreeze studio., lion\\'s shade, lionhead studios, lionheart creations, little big lee, little freedom factory, little green men games, locomotivah, logic artists, lonely troops, looking glass studios, lord kres, loren lemcke, lost decade games, love conquers all games, luc bernard,silverspherestudios, lucasarts, lucasarts,aspyr studios, lucasfim, lucid games,aspyr (mac &amp; linux), lucky frame, lucky girls limited, ludeon studios, ludosity, ludosity,remar games, lugus studios, luke cripps, lukewarm media, lunar giant, lwna, m2 co.,ltd, m2h,blackmill games, machine 22, machine games, machinegames, machinespirit, maciej targoni,wojciech wasiak, mad otter games, madruga works, mages. inc., magic notion, magicaltimebean, magix software gmbh, malfador machinations, mana games, manic game studios, manuel pazos,daniel celemín, marbenx, marie ronnaux games, mario von rickenbach,michael frei, martin ivanov, marvelous, inc., marxnet, masangsoft, inc., maschinen-mensch, massive damage, inc., massive entertainment, masthead studios ltd, matt kap,nicalis, inc., matt roszak, matt thorson, matthew brown, matthew c cohen, maxime vézina, maxis™, mechanist games, mediatonic,hato moa,the irregular corporation, mediatonic,the irregular corporation, megadev, megafuzz, memetic games, mercurysteam, mercurysteam - climax studios, meridian4, messhof, metanet software inc., meteoric games, michael flynn, michael todd games, michael todd games,yazar media group llc, michael zahniser, michaela laws, microblast games, microprose software, inc, microsoft game studios, midboss, llc., midgar studio,fusty game, might and delight, mighty rabbit studios, mighty rabbit studios,gun media, mighty rabbit studios,gun., mighty rocket studio, mihai morosanu, milan kazarka,jeroen van oosten, milestone s.r.l., milkstone studios, mimimi productions, mindstorm studios, mine loader software co., ltd., miniboss, minmax games ltd., minor key games, minori, minority media inc., minskworks, mint age studios, mirillis, mirko seithe, misfits attic, mithis games,thq nordic, mixamo, moacube, mobilebits, mode 7, modern dream, moenovel, mohawk games, mojang, mokus, moment studio, mommy\\'s best games, momostorm entertainment, monkeys tales studio, monochrome, inc, monolith, monolith productions, monolith productions, inc., monolith productions, inc.,feral interactive (mac),feral interactive (linux), monolith productions, inc.,timegate, monolith productions,feral interactive (mac),feral interactive (linux), monomi park, moon studios gmbh, moonlite software, moonstone, moppin, mossmouth, most wanted entertainment, mouldy toof studios, mountain sheep, movingblocks, mr-software gbr, mr. blue, muha games, mura interactive, murudai, muse games, muzzy lane software, myrtilus entertainment, mystic games, n3v games, nabi studios, nacho games, nadeo, naiad entertainment llc, namco, namco bandai games, nate schmold, nauris amatnieks, ndemic creations, necrophone games, nekki gmbh, neko entertainment, neko.works, nemesys games, neoclassic games, neocoregames, neople, nerd kingdom inc., nerdook productions, nerial, net games laboratory, netcore games, netherrealm studios, netherrealm studios,high voltage software, netmarble games, never don\\'t play, neversoft, new world interactive, nexon, nexon korea corp., nfusion interactive, ngd studios, nicalis, inc., nicalis, inc.,edmund mcmillen, nickervision studios, nicolas bernard, niffler ltd., night node, night school studio, nigoro, nihon falcom, nikita, nikita online, nimbly games, nina freeman,emmett butler,decky coss,joni kittaka, nina freeman,laura knetzger,stephen lawrence clark, nine dots studio, ninja kiwi, ninja robot dinosaur, ninja theory, ninjalex, nival, no brakes games, no more room in hell team, noah system,mgame, noble empire corp., noble master llc, nocturnal works, noio, noio,licorice, nom nom games, nomad games, nornware ab, north of earth, northway games,sarah northway, notgames, noumena studios, nova dimension,naga entertainment, novalogic, novel tea games, noviy disk,lesta studios inc, numantian games, number none, numinous games, nvizzio creations, nyamyam, obsidian entertainment, obsidian entertainment,aspyr (mac, linux, &amp; windows update), occa studios, ocr dev team,onur uça, octoshark studios, oddonegames, oddworld inhabitants, odin game studio, offworld industries, ohnoo studio, old b1ood, old school games, olde sküül,sculptured software, oleg sergeev,andrey rumak,do my best, olli harjola, otto hantula, tom jubert, carlo castellano, omniconnection, on the level game studios, onson soft, oovee® game studios, opus, orange_juice, orangegames,youdagames, orbital knight, oreol, organic humans, orion games, orlyapps, orthogonal games, oryx design lab, oscar brittain, ostrich banditos, osumia games, other ocean interactive, outerlight ltd., outerminds inc., over the moon, over the top games, overdrive, overhype studios, overkill - a starbreeze studio., overkill software, owl cave, owlbear, owlchemy labs, oxeye game studio, oxide games, pandemic studios, panzer gaming studios, paradox development studio, parallaxian pty ltd, passtech games, pathea games, paul bird, paul fisch, payload studios, peach pie productions, peacock dreams games, pencil test studios, perfect parallel, pestoforce, peter brinson and kurosh valanejad, peter moorhead, petit depotto, petroglyph, phenomenon games, phigames, phoenix game studio, phoenix online studios, phoenix studio, phosphor games studio, photon arena, phr00t\\'s software, pieces interactive, pigravity, pilgrim adventures,grabthegames studios, pillowpiggames, pinokl games,kverta, pinterac, pipeworks studio, piranha bytes, piranha games inc., pirozhok studio,vitaliy ruzankin, pivotal games, pixbits, pixel dash studios, eqgames, pixel federation, pixel ferrets, pixelfade inc, pixeljam, pixeltail games, pixowl inc., pixyul, platinumgames, playata gmbh, playbrains, playdead, playflock, playsaurus, playway s.a., plazsoft, plethora-project llc, pocketwatch games, point five projects, polar motion, polarityflow,adrian zingg, polykid, polypusher studios, polytron corporation, popcap games, inc., poppermost productions, poptop software,breakaway games,frog city software, portalarium, positech games, postmod softworks, power of 2, powerhoof, practicing01, praxia entertainment inc, press play, pribuni, primal, priority interrupt, prism game studios ltd., projectorgames, prospect games, proton studio inc, proxy studios, psychic software, psyonix, inc., puny human, puppygames, pwnee studios, pyro studios, q-games ltd., qcf design, qooc software, quad games, quantic dream, quantized bit, quantumfrog, question, quickfire games, quicktequila, quicktequila,calum bowen, qwiboo ltd, racing bros, radial games corp,dejobaan games, llc, radial games corp,loren bednar,dr. kimberly voll,lindsay jorgensen, radiant entertainment, radical entertainment, radical fish games, ragequit corporation, ragesquid, ragiva games e.k., rail slave games, rain games, rainbow games, rainbow studios,thq nordic, rake in grass, raptor claw games, ratloop asia, raven software,aspyr (mac), raven travel studios, raylight games, razorworks, razvan, rdt.32, re-logic, reactor zero, reakktor studios, real dynamics, reality pump, reality pump studios, realmforge studios, rebellion, recoil games, red abyss software, red barrels, red duck inc., red dwarf games, red hook studios, red nettle studio, red storm entertainment, red storm entertainment,ubisoft montreal, red team games, red thread games, redlynx, redlynx ltd,ubisoft  shanghaï, redlynx, in collaboration with  ubisoft shanghai, ubisoft kiev, redshift, redwood games, reentry games, reflect studios, reflextions, reiza studios, relic, relic entertainment, relic entertainment,europe at war development team, relic entertainment,feral interactive (mac),feral interactive (linux), relic entertainment,feral interactive (mac/linux), relic entertainment,thq nordic, reloaded productions, remedy entertainment, remimory, renegade kid, reperio studios, replay studios, reto-moto, retro army limited, retro yeti games, retroism, retronic games, reverie world studios, revolution software ltd, rex, rhaon entertainment, richard seabrook, rising star games, rising sun interactive, rival games ltd, rob howland, robot entertainment, robot gentleman, robotronic games, robtop games, rocket bear games, rocketeer games studio, llc, rockstar games, rockstar new england, rockstar north, rockstar north / toronto, rockstar san diego, rockstar studios, rocksteady, rocksteady studios, rocksteady studios,feral interactive (mac), rocktastic games, rodeo games,twistplay, rogue entertainment, rogue factor, rogue snail, rogue star,boreal sun,spider,deadman, roll7, roll7,general arcade, roman anatolevich,denis ovsyannikov, ronimo games, room710games, rooster teeth games, rootify, roseverte, rovio entertainment ltd, rsupport inc., rubycone, rudolf kremers &amp; alex may,tuna, rune forge, runic games, running with scissors, runserver, russpuppy, rusty lake, s houben,n tailor,a barnett, s.c. 16 bit nights s.r.l., s2 games, s2 games, llc, saber interactive, sachonski,renamilanesi,sith, sad panda studios, sakari indie, sakari indie &amp; grin, sakura river interactive, sam atlas, sam barlow, sami maaranen (creator),erkka lehmus (co-designer), samurai punk, sandlot, sandlot games, sandswept studios, santa ragione, sapphire dragon productions, satsu, sauropod studio, scarlet string studios, scary bee llc, schine, gmbh, scirra, scott cawthon, screwfly studios, scs software, sdenternet, sean davy, sebastian nigro, secret base, secret exit ltd., section studios, sector3 studios, securemix llc, seethrough studios, sega, sega studios australia,feral interactive (mac), semaphore, senscape, separate game development,dagestan technology, serellan llc, serenity forge, serious brew, sfb games, shadow planet productions, shark punch, shaunjs, shawn beck, sherman3d, shield break studios, shifty chair games, shining gate software, shining rock software llc, shiny entertainment, shiro games, shiver games, shokunin,thomas m. visser,vincent thiele, shorebound studios, shortbreak studios s.c., shumkov dmitriy, siege games, sigma team inc., signal studios, signal studios,krome studios, signal studios,smart ghost, silesia games sp. z o.o., silk games, silver dollar games, silver wish games, silverlode interactive,wasatch games, simbin, simogo, simon roth, sionois, sixense, sixteen tons entertainment, size five games, ska studios, skatanic studios, sketchy logic, skinny jean death studios, skobbejak games, sky drake studios, sky fallen, skybox labs,big huge games, skybox labs,forgotten empires, skybox labs,hidden path entertainment,ensemble studios, skygoblin, skyjaz games, slant six games, sledgehammer games,raven software, sleepninja games, sleepy duck, slightly mad studios, sluggerfly, smack down productions, small town studios, smartly dressed games, smashball labs llc, smashgames, smg studio, smoking wolf, smolders, smoodlez, smudged cat games ltd, snails animation, snapshot games inc., snk corporation, snk corporation,code mystics, snk corporation,dotemu, snoutup, snowbird games, snowblind studios, snowflame,back to basics gaming, soccer manager ltd, social loner studios, softstar, solest games, soloweb studios,ravens eye studio, somasim, sometimes you, somi, sonic team, sorath, sos, soul forge, south east games, southend, souvenir circ., soviet games, space boat studios, space budgie, space cat studios,snowflame,back to basics gaming, spaces of play, spark plug games, spark unlimited, sparpweed,codeglue, sparsevector, spasman games, spearhead games, spectral games, spellbound studios, spicy horse, spicy tails, spicyhorse games, spiderling studios, spidermonk entertainment, spiders, spiderweb software, spike chunsoft co., ltd., spike chunsoft co., ltd.,abstraction games, splash damage, split polygon, spooky squid games inc., sports interactive, sproing, spry fox llc, squad, square enix, square enix montréal, square enix,dotemu sas., stage 2 studios, stage-nana, stainless games, stainless games ltd, stainless games ltd., stamina-games, standing stone games, llc, star gem inc., star maid games, star vault ab, starbreeze, starbreeze studios ab, stardock entertainment, starquail games, starwraith 3d games llc, state of play games, stately snail, steel monkeys, stegersaurus software inc., stellar jockeys,gausswerks, stephenallen, still running, stillalive studios, stoic, stolen couch games, stone blade entertainment, storm_sharks, storybird, stout games, straight right, strange fire, strange loop games, strangely interactive ltd, strategy first, streum on studio, stridemann, strike games, strikeworks, studio bean, studio eres, studio fizbin, studio pixel, studio radi-8, studio teamshuriken, studio whisky tango inc., studio wildcard,instinct games,efecto studios,virtual basement llc, studiogiw, stunlock studios, stygian software, subatomic studios llc, subset games, subsoap, subvert games, sumo digital, sun-studios, sundae month, sunlight games, supergiant games, superhot team, supervillain studios, supra games, suspicious developments, svajūnas žemaitis, sven co-op team, sweet dog studios, swing swing submarine, switchblade monkeys entertainment, synergy team, syrin studios,small impact games, t3 entertainment, talawa games, tale of tales, taleworlds entertainment, taleworlds entertainment,flying squirrel entertainment, tall tail studios, tamationgames, tamsoft, tango gameworks, targem games, tasharen entertainment inc., tasty stewdios llc, tate multimedia, tb games, team 6 studios, team bondi,rockstar leeds, team chaos, llc, team chivalry, team eleven eleven, team fractal alligator, team indev, team jolly roger, team meat, team murder, team ninja,koei tecmo games co., ltd., team psykskallar, team reptile, team17 digital ltd, team17 software ltd., team6 game studios b.v., techland, technetium games, technomancy studios, teeworlds team, telltale games, tendershoot,a jolly corpse, tennen-sozai, teotl studios, tequila works, s.l., terc, terri vellmann, terrible posture games, terry cavanagh, tesseract interactive, test3 projects, teyon, the astronauts, the behemoth, the binary mill, the chinese room, the creative assembly, the creative assembly,feral interactive (mac), the creative assembly,feral interactive (mac),feral interactive (linux), the dept of silly stuff, the farm 51, the game bakers, the game kitchen, the glitch factory, the indie stone, the men who wear many hats, the molasses flood, the odd gentlemen, the quinnspiracy,patrick lindsey,isaac schankler, the sims studio, the tambourine, the whale husband, the working parts, thekla, inc., thomas bowker, thomas happ games llc, those awesome guys, threaks, three gates, three rings, thunder lotus games, ticktock games, tiger style, tigerish games, tilted mill entertainment, inc., tim sullivan, timegate studios, timesymmetry, tin man games, tindalos interactive, tinybuild, tlön studios, tlön studios,ilex games, tml studios, tml-studios, tnt team, toadman interactive,fatshark, tobyfox, toge productions, tokyo rpg factory, tom de roeck, tomasz wacławek, tomi maarela,elias viglione, tomoaki sugeno, tomorning productions, tomorrow corporation, topware interactive, topware interactive ace, toraiki, torn banner studios, totally games, touz, tragnarion studios, transcendent games, transhuman design, trapdoor inc., trashmasters, trav nash, traveller\\'s tales, traveller\\'s tales,feral interactive (mac), traveller\\'s tales,tt games,feral interactive (mac), travian games gmbh, treeform, treefortress games, trek industries, inc, trendy entertainment, trerplay, trese brothers, treyarch, triangle studios, tribe studios, tribute games inc., trickstar games, trinoteam, trion worlds, trion worlds, inc., triple-star studio,rock path collective, triple.b.titles, triplebrick, tripwire interactive, triumph studios, triumph studios,virtual programming, triverske, troika games, tt fusion,traveller\\'s tales,feral interactive (mac), tt games, tt games ltd,feral interactive (mac), tt games,traveller\\'s tales, tuesday society, tuomo laine, turbo pixel studios, turbo tape games, turbogun, turtle cream,pokpoong games, turtle rock studios, twice circled, twisted pixel games, two tribes, ty taylor and mario castañeda,the quantum astrophysicists guild, u-play online, u.s. army, uber entertainment, ubiart montpellier,feral interactive (mac), ubisoft, ubisoft  shanghaï, ubisoft - san francisco, ubisoft montpellier, ubisoft montreal, ubisoft montreal, massive entertainment, and ubisoft shanghai, ubisoft montreal, red storm, shanghai, toronto, kiev, ubisoft montréal, ubisoft paris,red storm entertainment, ubisoft quebec, in collaboration with ubisoft annecy, bucharest, kiev, montreal, montpellier, shanghai, singapore, sofia, toronto studios, ubisoft reflections, ubisoft romania, ubisoft sofia, ubisoft sofia,ubisoft kiev, ubisoft toronto, ultra runaway games, ultravision interactive, undead labs, underdog games, unfinished pixel, unicorn games studio, unigine llc., united front games, united front games,feral interactive (mac), united independent entertainment gmbh, united independent entertainment gmbh,actalogic, unknown worlds entertainment, unwonted studios, upper one games,e-line media, uppercut games pty ltd, urban games, vae victis games, vagabond dog, valusoft, retroism, valve, vanguard games, vanguard games,343 industries, varagtp, varkian empire, varlamov5264, vblank entertainment, inc., vectorpark, inc., vertigo games, vertigo gaming inc., very simple idea studios, vicious cycle software, vicious cycle software, inc., vidiludi games and entertainment, vifth floor, vigil games, vikingfabian.com, ville mönkkönen,anne mönkkönen, vine, virgin interactive entertainment,priitk, virtual basement llc,code headquarters llc, virtual racing industries ltd., vis - visual imagination software, vis interactive, visceral games, visual concepts, visual concepts,yuke\\'s, visualarts/key, viswanath atlu,laurie banks,rohan bhukan,nick burnham,avinash kalapala,yash kapani,katharine marsh,ankur rathore,hardit singh,anoop nihar srinivas,ryan guanyuhao jiang,robert zhu, vitali kirpu, vivid games s.a., vladimir maslov, vlambeer, vlambeer,croteam, vogelsap, volition, volition, inc., volition,reactor zero,thq nordic, volumetric games, volumeup studios, vortal storm, vostok games, voxler games, vstep, wadjet eye games, wales interactive, walter machado, wanako games, warfare studios, warfaresims, warlock wireless, warteam, wayforward, wayforward,abstraction games, wb games montreal,splash damage, weappy studio, webgames, wemade, white rabbit games, whitemoon dreams, wholetone games, wild games studio, wild shadow studios, wildgrass, wildtangent, windybeard, winter wolves, wisdom tree, inc., witch beam, with the love studios, wizarbox, wolcen studio, wolfire games, world-loom,nitreal, wrf studios, wtfomgames, wube software ltd., wyrmbyte, wzogi, x-bow software, x-legend, x1 software,awar, xavi canal, ben palgi, xaviant, xgen studios, xlgames, xtal sword, xxarabongxx, xyla entertainment, yacht club games, yager development, yakiniku banzai, yeaboing, yeti trunk, yfc games, yfyx games, yotsubane,adventure planning service, young horses, yume creations, z4g0 and ivan venturi productions, zachtronics, zackbellgames, zandel media, zanrai interactive, zaratustra productions, zaxis games,b-evil, zbigniew ochman, zeboyd games, zeiva inc, zen studios, zenimax online studios, zero point software, zero sum games, zeroscale, zinertek, zombie panic team, zombie studios, zoo corporation, zootfly, zoë mode, zykov eddy,xitilon, △○□× (miwashiba), インレ,inre, 橘子班, 高考恋爱委员会,橘子班'}"
      ]
     },
     "execution_count": 6,
     "metadata": {},
     "output_type": "execute_result"
    }
   ],
   "source": [
    "developer_reviews_analysis('aseefe')"
   ]
  }
 ],
 "metadata": {
  "kernelspec": {
   "display_name": "Python 3",
   "language": "python",
   "name": "python3"
  },
  "language_info": {
   "codemirror_mode": {
    "name": "ipython",
    "version": 3
   },
   "file_extension": ".py",
   "mimetype": "text/x-python",
   "name": "python",
   "nbconvert_exporter": "python",
   "pygments_lexer": "ipython3",
   "version": "3.12.1"
  }
 },
 "nbformat": 4,
 "nbformat_minor": 2
}

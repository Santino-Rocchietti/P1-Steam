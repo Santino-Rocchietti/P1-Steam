{
 "cells": [
  {
   "cell_type": "code",
   "execution_count": 1,
   "metadata": {},
   "outputs": [],
   "source": [
    "# en este notebook desarrollamos el archivo y la función para /developer/\n",
    "import pandas as pd \n"
   ]
  },
  {
   "cell_type": "code",
   "execution_count": 2,
   "metadata": {},
   "outputs": [
    {
     "data": {
      "text/html": [
       "<div>\n",
       "<style scoped>\n",
       "    .dataframe tbody tr th:only-of-type {\n",
       "        vertical-align: middle;\n",
       "    }\n",
       "\n",
       "    .dataframe tbody tr th {\n",
       "        vertical-align: top;\n",
       "    }\n",
       "\n",
       "    .dataframe thead th {\n",
       "        text-align: right;\n",
       "    }\n",
       "</style>\n",
       "<table border=\"1\" class=\"dataframe\">\n",
       "  <thead>\n",
       "    <tr style=\"text-align: right;\">\n",
       "      <th></th>\n",
       "      <th>developer</th>\n",
       "      <th>Año</th>\n",
       "      <th>Cantidad de Items</th>\n",
       "      <th>Contenido Free</th>\n",
       "    </tr>\n",
       "  </thead>\n",
       "  <tbody>\n",
       "    <tr>\n",
       "      <th>0</th>\n",
       "      <td>+7 software</td>\n",
       "      <td>2016</td>\n",
       "      <td>1</td>\n",
       "      <td>0.0</td>\n",
       "    </tr>\n",
       "    <tr>\n",
       "      <th>1</th>\n",
       "      <td>+mpact games, llc.</td>\n",
       "      <td>2017</td>\n",
       "      <td>1</td>\n",
       "      <td>0.0</td>\n",
       "    </tr>\n",
       "    <tr>\n",
       "      <th>2</th>\n",
       "      <td>.ez games</td>\n",
       "      <td>2017</td>\n",
       "      <td>1</td>\n",
       "      <td>0.0</td>\n",
       "    </tr>\n",
       "    <tr>\n",
       "      <th>3</th>\n",
       "      <td>.m.y.w.</td>\n",
       "      <td>2016</td>\n",
       "      <td>1</td>\n",
       "      <td>0.0</td>\n",
       "    </tr>\n",
       "    <tr>\n",
       "      <th>4</th>\n",
       "      <td>07th expansion</td>\n",
       "      <td>2015</td>\n",
       "      <td>2</td>\n",
       "      <td>0.0</td>\n",
       "    </tr>\n",
       "  </tbody>\n",
       "</table>\n",
       "</div>"
      ],
      "text/plain": [
       "            developer   Año  Cantidad de Items  Contenido Free\n",
       "0         +7 software  2016                  1             0.0\n",
       "1  +mpact games, llc.  2017                  1             0.0\n",
       "2           .ez games  2017                  1             0.0\n",
       "3             .m.y.w.  2016                  1             0.0\n",
       "4      07th expansion  2015                  2             0.0"
      ]
     },
     "execution_count": 2,
     "metadata": {},
     "output_type": "execute_result"
    }
   ],
   "source": [
    "df = pd.read_parquet('c:\\\\Users\\\\Sofia\\\\Desktop\\\\Clean Data\\\\steam_games.parquet', columns= ['id', 'developer', 'release_date', 'price'])\n",
    "df['developer'] = df['developer'].apply(lambda x: x.lower())\n",
    "df['free'] = df['price'].apply(lambda x: 1 if x == 0 else 0)\n",
    "df['Año'] = df['release_date'].dt.year\n",
    "df = df.groupby(['developer', 'Año']).agg(\n",
    "                            {'id': 'count', 'free': lambda x: (x.sum() / x.count()) * 100}\n",
    "                        ).reset_index().rename(columns={'free': 'Contenido Free', 'id': 'Cantidad de Items'})\n",
    "df['Contenido Free'] = round(df['Contenido Free'], 2)\n",
    "df.head()"
   ]
  },
  {
   "cell_type": "code",
   "execution_count": 3,
   "metadata": {},
   "outputs": [],
   "source": [
    "df.to_parquet('c:\\\\Users\\\\Sofia\\\\Desktop\\\\Clean Data\\\\developer.parquet')"
   ]
  },
  {
   "cell_type": "code",
   "execution_count": 4,
   "metadata": {},
   "outputs": [],
   "source": [
    "def developer(desarrollador: str):\n",
    "    \n",
    "    \"\"\"\n",
    "    Recupera información sobre un desarrollador específico.\n",
    "\n",
    "    Args:\n",
    "        desarrollador (str): Nombre del desarrollador.\n",
    "\n",
    "    Returns:\n",
    "        dict: Diccionario con información sobre el desarrollador.\n",
    "    \"\"\"\n",
    "    \n",
    "    if not isinstance(desarrollador, str):\n",
    "        return {'Mensaje': 'El argumento \"desarrollador\" debe ser una cadena de texto (str).'}\n",
    "    \n",
    "    df = pd.read_parquet('c:\\\\Users\\\\Sofia\\\\Desktop\\\\Clean Data\\\\developer.parquet')\n",
    "\n",
    "    desarrollador = desarrollador.lower()\n",
    "    desarrolladores = list(df['developer'].unique())\n",
    "    df = df[df['developer'].isin([desarrollador])].reset_index(drop=True)\n",
    "\n",
    "    if len(df) == 0:\n",
    "        del df\n",
    "        return {'Mensaje': f'Desarrollador no encontrado. Inserte un desarrollador válido. Desarrolladores: {\", \".join(desarrolladores)}'}\n",
    "\n",
    "    resultado = {\n",
    "        f'Año {int(df.loc[i,\"Año\"])}': {'Cantidad de Items': int(df.loc[i, 'Cantidad de Items']), 'Contenido Free:': str(df.loc[i, 'Contenido Free']) + ' %'}\n",
    "        for i in range(len(df))\n",
    "    }\n",
    "\n",
    "    del df\n",
    "    return resultado"
   ]
  },
  {
   "cell_type": "code",
   "execution_count": 5,
   "metadata": {},
   "outputs": [
    {
     "data": {
      "text/plain": [
       "{'Año 1998': {'Cantidad de Items': 1, 'Contenido Free:': '0.0 %'},\n",
       " 'Año 1999': {'Cantidad de Items': 1, 'Contenido Free:': '0.0 %'},\n",
       " 'Año 2000': {'Cantidad de Items': 2, 'Contenido Free:': '0.0 %'},\n",
       " 'Año 2001': {'Cantidad de Items': 1, 'Contenido Free:': '0.0 %'},\n",
       " 'Año 2003': {'Cantidad de Items': 1, 'Contenido Free:': '0.0 %'},\n",
       " 'Año 2004': {'Cantidad de Items': 5, 'Contenido Free:': '0.0 %'},\n",
       " 'Año 2005': {'Cantidad de Items': 1, 'Contenido Free:': '0.0 %'},\n",
       " 'Año 2006': {'Cantidad de Items': 2, 'Contenido Free:': '0.0 %'},\n",
       " 'Año 2007': {'Cantidad de Items': 3, 'Contenido Free:': '33.33 %'},\n",
       " 'Año 2008': {'Cantidad de Items': 1, 'Contenido Free:': '0.0 %'},\n",
       " 'Año 2009': {'Cantidad de Items': 1, 'Contenido Free:': '0.0 %'},\n",
       " 'Año 2010': {'Cantidad de Items': 2, 'Contenido Free:': '50.0 %'},\n",
       " 'Año 2011': {'Cantidad de Items': 1, 'Contenido Free:': '0.0 %'},\n",
       " 'Año 2012': {'Cantidad de Items': 2, 'Contenido Free:': '0.0 %'},\n",
       " 'Año 2014': {'Cantidad de Items': 7, 'Contenido Free:': '0.0 %'},\n",
       " 'Año 2016': {'Cantidad de Items': 1, 'Contenido Free:': '100.0 %'},\n",
       " 'Año 2017': {'Cantidad de Items': 2, 'Contenido Free:': '0.0 %'}}"
      ]
     },
     "execution_count": 5,
     "metadata": {},
     "output_type": "execute_result"
    }
   ],
   "source": [
    "developer('valve')"
   ]
  }
 ],
 "metadata": {
  "kernelspec": {
   "display_name": "Python 3",
   "language": "python",
   "name": "python3"
  },
  "language_info": {
   "codemirror_mode": {
    "name": "ipython",
    "version": 3
   },
   "file_extension": ".py",
   "mimetype": "text/x-python",
   "name": "python",
   "nbconvert_exporter": "python",
   "pygments_lexer": "ipython3",
   "version": "3.12.1"
  }
 },
 "nbformat": 4,
 "nbformat_minor": 2
}

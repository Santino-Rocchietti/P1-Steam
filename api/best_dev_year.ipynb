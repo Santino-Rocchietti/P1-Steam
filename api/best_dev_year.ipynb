{
 "cells": [
  {
   "cell_type": "code",
   "execution_count": 1,
   "metadata": {},
   "outputs": [],
   "source": [
    "import pandas as pd"
   ]
  },
  {
   "cell_type": "code",
   "execution_count": 2,
   "metadata": {},
   "outputs": [
    {
     "data": {
      "text/html": [
       "<div>\n",
       "<style scoped>\n",
       "    .dataframe tbody tr th:only-of-type {\n",
       "        vertical-align: middle;\n",
       "    }\n",
       "\n",
       "    .dataframe tbody tr th {\n",
       "        vertical-align: top;\n",
       "    }\n",
       "\n",
       "    .dataframe thead th {\n",
       "        text-align: right;\n",
       "    }\n",
       "</style>\n",
       "<table border=\"1\" class=\"dataframe\">\n",
       "  <thead>\n",
       "    <tr style=\"text-align: right;\">\n",
       "      <th></th>\n",
       "      <th>Año</th>\n",
       "      <th>developer</th>\n",
       "      <th>rating</th>\n",
       "    </tr>\n",
       "  </thead>\n",
       "  <tbody>\n",
       "    <tr>\n",
       "      <th>0</th>\n",
       "      <td>0</td>\n",
       "      <td>07th Expansion</td>\n",
       "      <td>1</td>\n",
       "    </tr>\n",
       "    <tr>\n",
       "      <th>1</th>\n",
       "      <td>0</td>\n",
       "      <td>10tons Ltd</td>\n",
       "      <td>2</td>\n",
       "    </tr>\n",
       "    <tr>\n",
       "      <th>2</th>\n",
       "      <td>0</td>\n",
       "      <td>16bit Nights</td>\n",
       "      <td>1</td>\n",
       "    </tr>\n",
       "    <tr>\n",
       "      <th>3</th>\n",
       "      <td>0</td>\n",
       "      <td>22cans</td>\n",
       "      <td>4</td>\n",
       "    </tr>\n",
       "    <tr>\n",
       "      <th>4</th>\n",
       "      <td>0</td>\n",
       "      <td>2K Boston,2K Australia,Blind Squirrel,Feral In...</td>\n",
       "      <td>10</td>\n",
       "    </tr>\n",
       "  </tbody>\n",
       "</table>\n",
       "</div>"
      ],
      "text/plain": [
       "   Año                                          developer  rating\n",
       "0    0                                     07th Expansion       1\n",
       "1    0                                         10tons Ltd       2\n",
       "2    0                                       16bit Nights       1\n",
       "3    0                                             22cans       4\n",
       "4    0  2K Boston,2K Australia,Blind Squirrel,Feral In...      10"
      ]
     },
     "execution_count": 2,
     "metadata": {},
     "output_type": "execute_result"
    }
   ],
   "source": [
    "df_sent = pd.read_parquet('c:\\\\Users\\\\Sofia\\\\Desktop\\\\sentiment_analysis_2.parquet', columns= ['item_id', 'sentiment_analysis_2', 'recommend', 'Año'])\n",
    "df_steam = pd.read_parquet('c:\\\\Users\\\\Sofia\\\\Desktop\\\\Clean Data\\\\steam_games.parquet', columns= ['id', 'developer'])\n",
    "df = df_sent.merge(df_steam, how='left', left_on='item_id', right_on='id')\n",
    "df.drop(columns=['item_id', 'id'], inplace=True)\n",
    "df.dropna(inplace=True)\n",
    "df = df.groupby(['Año', 'developer']).agg({'sentiment_analysis_2': (lambda x: (x == 2).sum()), 'recommend': 'sum'})\n",
    "df['rating'] = df['sentiment_analysis_2'] + df['recommend']\n",
    "df.drop(columns=['sentiment_analysis_2', 'recommend'], inplace=True)\n",
    "df.reset_index(inplace=True)\n",
    "df.head()"
   ]
  },
  {
   "cell_type": "code",
   "execution_count": 3,
   "metadata": {},
   "outputs": [],
   "source": [
    "df.to_parquet('c:\\\\Users\\\\Sofia\\\\Desktop\\\\Clean Data\\\\best_developer_year.parquet')"
   ]
  },
  {
   "cell_type": "code",
   "execution_count": 6,
   "metadata": {},
   "outputs": [],
   "source": [
    "def best_developer_year(anio: int):\n",
    "\n",
    "    try:\n",
    "        anio = int(anio)\n",
    "    except Exception as e:\n",
    "        return {f'Error {e}': 'Debe insertar un número entero.'}\n",
    "    \n",
    "    df = pd.read_parquet('c:\\\\Users\\\\Sofia\\\\Desktop\\\\Clean Data\\\\best_developer_year.parquet')\n",
    "    anios = list(df['Año'].unique())\n",
    "    anios = [int(x) for x in anios]\n",
    "    \n",
    "    df = df[df['Año'].isin([anio])]\n",
    "    if len(df) == 0:\n",
    "        del df\n",
    "        return {'Mensaje': f'No hay registros del año {anio}',\n",
    "                'Los años disponibles son:': anios}\n",
    "\n",
    "    df = df.sort_values('rating', ascending=False).reset_index()\n",
    "    \n",
    "    result = {\n",
    "                'Puesto 1': df.loc[0, 'developer'],\n",
    "                'Puesto 2': df.loc[1, 'developer'],\n",
    "                'Puesto 3': df.loc[2, 'developer']\n",
    "            }\n",
    "    del df\n",
    "    return result"
   ]
  },
  {
   "cell_type": "code",
   "execution_count": 8,
   "metadata": {},
   "outputs": [
    {
     "data": {
      "text/plain": [
       "{'Puesto 1': 'Valve',\n",
       " 'Puesto 2': 'Tripwire Interactive',\n",
       " 'Puesto 3': 'Facepunch Studios'}"
      ]
     },
     "execution_count": 8,
     "metadata": {},
     "output_type": "execute_result"
    }
   ],
   "source": [
    "best_developer_year(2010)"
   ]
  }
 ],
 "metadata": {
  "kernelspec": {
   "display_name": "Python 3",
   "language": "python",
   "name": "python3"
  },
  "language_info": {
   "codemirror_mode": {
    "name": "ipython",
    "version": 3
   },
   "file_extension": ".py",
   "mimetype": "text/x-python",
   "name": "python",
   "nbconvert_exporter": "python",
   "pygments_lexer": "ipython3",
   "version": "3.12.1"
  }
 },
 "nbformat": 4,
 "nbformat_minor": 2
}
